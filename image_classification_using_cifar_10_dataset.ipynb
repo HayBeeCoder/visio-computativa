{
 "cells": [
  {
   "cell_type": "markdown",
   "metadata": {
    "colab_type": "text",
    "id": "view-in-github"
   },
   "source": [
    "<a href=\"https://colab.research.google.com/github/HayBeeCoder/visio-computativa/blob/main/image_classification_using_cifar_10_dataset.ipynb\" target=\"_parent\"><img src=\"https://colab.research.google.com/assets/colab-badge.svg\" alt=\"Open In Colab\"/></a>"
   ]
  },
  {
   "cell_type": "markdown",
   "metadata": {
    "id": "8dKGrSupK2RZ"
   },
   "source": [
    "# **SETUP & DATA PREPARATION**"
   ]
  },
  {
   "cell_type": "code",
   "execution_count": null,
   "metadata": {
    "id": "8wWuvqHCLKm0"
   },
   "outputs": [],
   "source": [
    "import torch\n",
    "import torchvision\n",
    "from torchvision import datasets, transforms\n",
    "from torch.utils.data import DataLoader\n",
    "from tqdm.notebook import tqdm\n",
    "from collections import Counter\n",
    "from sklearn.metrics import ConfusionMatrixDisplay, confusion_matrix\n",
    "from torch.utils.data import DataLoader, random_split\n",
    "# from torchinfo import summary\n",
    "import matplotlib.pyplot as plt\n",
    "import pandas as pd\n",
    "\n",
    "from PIL import Image\n"
   ]
  },
  {
   "cell_type": "markdown",
   "metadata": {
    "id": "X9kCDDvUgrfH"
   },
   "source": []
  },
  {
   "cell_type": "code",
   "execution_count": null,
   "metadata": {
    "colab": {
     "base_uri": "https://localhost:8080/"
    },
    "id": "87LDMKY4Pe62",
    "outputId": "c9197dbd-f888-4334-bb24-74a7ee0213cb"
   },
   "outputs": [],
   "source": [
    "if torch.cuda.is_available():\n",
    "   device = \"cuda\"\n",
    "elif torch.backends.mps.is_available():\n",
    "   device = \"mps\"\n",
    "else:\n",
    "   device = \"cpu\"\n",
    "\n",
    "print(f\"Using {device} device.\")\n"
   ]
  },
  {
   "cell_type": "code",
   "execution_count": null,
   "metadata": {
    "id": "7Ui4dDHXirks"
   },
   "outputs": [],
   "source": [
    "class ConvertToRGB:\n",
    "  def __call__(self, image):\n",
    "    if image.mode != \"RGB\":\n",
    "      image = image.convert(\"RGB\")\n",
    "    return image"
   ]
  },
  {
   "cell_type": "code",
   "execution_count": null,
   "metadata": {
    "id": "n-xdzZUJmUBx"
   },
   "outputs": [],
   "source": [
    "transform = transforms.Compose([\n",
    "    ConvertToRGB(),\n",
    "    transforms.ToTensor()\n",
    "])"
   ]
  },
  {
   "cell_type": "code",
   "execution_count": null,
   "metadata": {
    "colab": {
     "base_uri": "https://localhost:8080/"
    },
    "id": "fXKMyPdGkED1",
    "outputId": "6eb79a1e-fb76-449a-96d6-edcb029bca79"
   },
   "outputs": [],
   "source": [
    "trainset = datasets.CIFAR10(root='./data', train=True, download=True, transform=transform)"
   ]
  },
  {
   "cell_type": "code",
   "execution_count": null,
   "metadata": {
    "colab": {
     "base_uri": "https://localhost:8080/"
    },
    "id": "Qb3PtCAYmdKy",
    "outputId": "11e23b59-85bf-4576-ca5d-3367031f188d"
   },
   "outputs": [],
   "source": [
    "trainset[0][0].size\n",
    "\n",
    "counter = 0\n",
    "for item in trainset:\n",
    "  if item[0].size == (32,32):\n",
    "    counter += 1\n",
    "print(counter)\n"
   ]
  },
  {
   "cell_type": "code",
   "execution_count": null,
   "metadata": {
    "id": "3mVkjzwqkKNI"
   },
   "outputs": [],
   "source": [
    "batch_size=32\n",
    "train_data_loader = DataLoader(trainset, batch_size=batch_size)"
   ]
  },
  {
   "cell_type": "code",
   "execution_count": null,
   "metadata": {
    "colab": {
     "base_uri": "https://localhost:8080/"
    },
    "id": "XdurTUa3llLy",
    "outputId": "c4dbe6f9-85e5-4d2a-e43e-68fe3b310745"
   },
   "outputs": [],
   "source": [
    "first_batch = next(iter(train_data_loader))\n",
    "\n",
    "print(f\"Shape of one batch: {first_batch[0].shape}\")\n",
    "print(f\"Shape of labels: {first_batch[1].shape}\")\n"
   ]
  },
  {
   "cell_type": "markdown",
   "metadata": {
    "id": "i5wdZQorInqE"
   },
   "source": []
  },
  {
   "cell_type": "code",
   "execution_count": null,
   "metadata": {
    "colab": {
     "base_uri": "https://localhost:8080/",
     "height": 123,
     "referenced_widgets": [
      "fdb20691d41e4c61aec05616c003c16a",
      "f5207627b89845bdb07442ec82187be7",
      "4be272a179b047bc91cf96134b3f1a2f",
      "c5c60d8f8858417fa8ad57b1b036ab23",
      "d46827986df346cca8fc9f96d30f0283",
      "e4f3a69f2e75403191f530b31c4e278f",
      "09cb5c8631f24d7eaee28589ec47cda6",
      "c75fb80442934782a5f7bcb164ada87c",
      "6d2fd49e178d45d8b0bb43429ce685ad",
      "5e6eb535dac74986a73a9852f74106b5",
      "b22a18a3e4bf4f1fa8d02ee982cf4486"
     ]
    },
    "id": "nD4W4OQSbPbx",
    "outputId": "1e3d238c-551b-407f-9fdf-3be71f0c1171"
   },
   "outputs": [],
   "source": [
    "\n",
    "counts = Counter(x[1] for x in tqdm(trainset))\n",
    "# print(\"The counts dictionary:\", counts)\n",
    "\n",
    "# print(\"The class_to_idx dictionary:\", trainset.class_to_idx)\n",
    "\n",
    "class_distribution = {x: counts[trainset.class_to_idx[x]] for x in trainset.class_to_idx }\n",
    "print(class_distribution)"
   ]
  },
  {
   "cell_type": "markdown",
   "metadata": {
    "id": "YNCOKJIJL9Lg"
   },
   "source": [
    "# **DATA ANALYSIS & NORMALIZATION**"
   ]
  },
  {
   "cell_type": "code",
   "execution_count": null,
   "metadata": {
    "id": "HqDvqA99PTlT"
   },
   "outputs": [],
   "source": [
    "def get_mean_std(loader):\n",
    "\n",
    "  channels_sum, channels_squared_sum, num_batches = 0, 0, 0\n",
    "  for data, _ in tqdm(loader, desc=\"Computing mean and std\", leave=False):\n",
    "    channels_sum += torch.mean(data, dim=[0, 2, 3])\n",
    "    channels_squared_sum += torch.mean(data**2, dim=[0, 2, 3])\n",
    "    num_batches += 1\n",
    "  mean = channels_sum / num_batches\n",
    "  std = (channels_squared_sum / num_batches - mean**2) ** 0.5\n",
    "\n",
    "  return mean, std"
   ]
  },
  {
   "cell_type": "code",
   "execution_count": null,
   "metadata": {
    "colab": {
     "base_uri": "https://localhost:8080/",
     "height": 17,
     "referenced_widgets": [
      "70f8b3f0f6dc465ebc198e800786b068",
      "ab1d7cacd77f44e78a2bfcc0ea7de94d",
      "64704781aec24b5da069e58b14ea3832",
      "bbe06cc388644b89a1158066fd895544",
      "39badf5d18ae47a59817299aa236570b",
      "ffaa3f6fb1ac4d779a2c6275e11b4584",
      "dcd9e7be15894070bef8598a5d7647eb",
      "b64713c8277b48fea2a504728123afa2",
      "ea9f7f62ac6f4f2881c652da4ed92435",
      "4dc952e774ba4529a8b70ae0c373af5b",
      "d230051d8e944626a9d2c82183223b21"
     ]
    },
    "id": "TXBx1ssYb7yk",
    "outputId": "3ed51484-80e8-4e35-cdea-3f212c6de7bb"
   },
   "outputs": [],
   "source": [
    "mean, std = get_mean_std(train_data_loader)"
   ]
  },
  {
   "cell_type": "code",
   "execution_count": null,
   "metadata": {
    "id": "D8ab6qLceVez"
   },
   "outputs": [],
   "source": [
    "transform_norm = transforms.Compose([\n",
    "    ConvertToRGB(),\n",
    "    transforms.ToTensor(),\n",
    "    transforms.Normalize(mean=mean, std=std)\n",
    "])"
   ]
  },
  {
   "cell_type": "code",
   "execution_count": null,
   "metadata": {
    "id": "F6nuUeExedj4"
   },
   "outputs": [],
   "source": [
    "normalized_trainset = datasets.CIFAR10(root='./data', train=True, download=True, transform=transform_norm)"
   ]
  },
  {
   "cell_type": "markdown",
   "metadata": {
    "id": "CM018MDnMLsy"
   },
   "source": [
    "# **DATA SPLITTING AND VALIDATION**"
   ]
  },
  {
   "cell_type": "code",
   "execution_count": null,
   "metadata": {
    "id": "fvYg2r-jejan"
   },
   "outputs": [],
   "source": [
    "\n",
    "g = torch.Generator()\n",
    "g.manual_seed(42)\n",
    "train_set, val_set = random_split(normalized_trainset, [0.8, 0.2], generator=g)"
   ]
  },
  {
   "cell_type": "code",
   "execution_count": null,
   "metadata": {
    "colab": {
     "base_uri": "https://localhost:8080/"
    },
    "id": "Zb4LIkM4AsF3",
    "outputId": "da668a5b-2176-4667-c2b1-8fe7df2f35b7"
   },
   "outputs": [],
   "source": [
    "len(train_set)"
   ]
  },
  {
   "cell_type": "code",
   "execution_count": null,
   "metadata": {
    "colab": {
     "base_uri": "https://localhost:8080/",
     "height": 430,
     "referenced_widgets": [
      "eec2b5aaf6c540d7bd77229a289e1697",
      "caaaa17a03d041dbaeaf03c5f503084c",
      "438870a5998b4257bde6871f263b8ef5",
      "6aa9686715b541dc8db013f4ebd7ff1f",
      "cb5c75c131b94cdd8d072d1773da4240",
      "d9af0e6b097b46f9acb67520573d253e",
      "9f628ef9d89a4806a9a042e0980aa065",
      "29070aaabfde46d38070824a5650acfc",
      "91f357c6498e4df084deefe121650fd1",
      "65822572ff3142f0970b19cd94bf1247",
      "73232b3c8e2b41b0a2886cf069bc2cfa"
     ]
    },
    "id": "rHVKnHt9Aw1W",
    "outputId": "77f6f782-41e0-4c57-8105-05238babc9fb"
   },
   "outputs": [],
   "source": [
    "\n",
    "\n",
    "def count(dataset):\n",
    "  counts = Counter(x[1] for x in tqdm(dataset))\n",
    "  classes = dataset.dataset.class_to_idx\n",
    "  return pd.Series({cat: counts[index] for cat, index in classes.items() })\n",
    "\n",
    "count(train_set)"
   ]
  },
  {
   "cell_type": "code",
   "execution_count": null,
   "metadata": {
    "colab": {
     "base_uri": "https://localhost:8080/",
     "height": 81,
     "referenced_widgets": [
      "2b01f46c5295499d83bfe26257603b21",
      "51afcbbfce924b039ee8dfbd2c2d3faf",
      "a18d6284e28948beb9e175b3597d5ce2",
      "95b9508e493c422f8c50f0b5787c063b",
      "f4d16fb7f90749328419b752e75a5926",
      "33cf93103b4d44b186a2cd33f9afb005",
      "db0aa41b2d784227b8a7a37e6eb16e50",
      "bfef677173204b5db369ab8b2f7b7d4e",
      "023140be688147d5a44c8bcd6e193642",
      "b239442ba39341bc9a0566fbf12bfec0",
      "6a1f1e81869a4f06ad9fb2e99645c5cc",
      "f661795433d9431ba93844f14aefa472",
      "751ed468de234baf851489e720e1a158",
      "77edbb3e29da47eebbd551007e9bbd73",
      "14340d6b25da4daf916c78bac1b02a2e",
      "02e74edd226543c08345463f7b473828",
      "f530cbf4de064cb49e7f7da265a4a9cb",
      "6d5483f39046495694a70421511600cb",
      "44c2367d626541168e69576872d7d0e9",
      "ed8367fb3dac475ab2fffbb3ee022574",
      "160cd42a9c7b4f8dbc1f8fb23c48684d",
      "4bd699fe57a5453b8c97cb65e665dea3"
     ]
    },
    "id": "eTHLHFJ-CnJC",
    "outputId": "0f930662-fac0-4f04-f661-185a22da1454"
   },
   "outputs": [],
   "source": [
    "train_class_distribution = count(train_set)\n",
    "val_class_distribution = count(val_set)"
   ]
  },
  {
   "cell_type": "code",
   "execution_count": null,
   "metadata": {
    "colab": {
     "base_uri": "https://localhost:8080/",
     "height": 518
    },
    "id": "O2NKrHJoHsBx",
    "outputId": "a337dfba-b83c-4d98-d96b-8c1320d26412"
   },
   "outputs": [],
   "source": [
    "train_class_distribution.sort_values().plot(kind=\"bar\")\n",
    "plt.ylim(2000,4000)"
   ]
  },
  {
   "cell_type": "markdown",
   "metadata": {
    "id": "u-JHwHkAJG8O"
   },
   "source": []
  },
  {
   "cell_type": "code",
   "execution_count": null,
   "metadata": {
    "colab": {
     "base_uri": "https://localhost:8080/",
     "height": 512
    },
    "id": "rbllJfeqH3bI",
    "outputId": "cc4a4ac8-0b95-4595-b94b-54d09d47b08c"
   },
   "outputs": [],
   "source": [
    "val_class_distribution.sort_values().plot(kind=\"bar\")"
   ]
  },
  {
   "cell_type": "markdown",
   "metadata": {
    "id": "f0SFhqGuKlD0"
   },
   "source": [
    "# **CNN MODEL ARCHITECTURE**"
   ]
  },
  {
   "cell_type": "code",
   "execution_count": null,
   "metadata": {
    "id": "s6z6GDJPI9_P"
   },
   "outputs": [],
   "source": []
  }
 ],
 "metadata": {
  "accelerator": "GPU",
  "colab": {
   "authorship_tag": "ABX9TyOM8BnIGEGrRJ3qBjPCSY4M",
   "gpuType": "T4",
   "include_colab_link": true,
   "provenance": []
  },
  "kernelspec": {
   "display_name": "Python 3",
   "name": "python3"
  },
  "language_info": {
   "name": "python"
  }
 },
 "nbformat": 4,
 "nbformat_minor": 0
}
